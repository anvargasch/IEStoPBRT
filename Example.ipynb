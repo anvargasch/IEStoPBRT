{
  "nbformat": 4,
  "nbformat_minor": 0,
  "metadata": {
    "colab": {
      "provenance": [],
      "include_colab_link": true
    },
    "kernelspec": {
      "name": "python3",
      "display_name": "Python 3"
    },
    "language_info": {
      "name": "python"
    }
  },
  "cells": [
    {
      "cell_type": "markdown",
      "metadata": {
        "id": "view-in-github",
        "colab_type": "text"
      },
      "source": [
        "<a href=\"https://colab.research.google.com/github/anvargasch/IEStoPBRT/blob/main/Example.ipynb\" target=\"_parent\"><img src=\"https://colab.research.google.com/assets/colab-badge.svg\" alt=\"Open In Colab\"/></a>"
      ]
    },
    {
      "cell_type": "markdown",
      "source": [
        "# Clone the repository containing the conversion functions and sample IES files"
      ],
      "metadata": {
        "id": "clone-repo"
      }
    },
    {
      "cell_type": "code",
      "execution_count": null,
      "metadata": {
        "id": "clone-code"
      },
      "outputs": [],
      "source": [
        "!git clone https://github.com/anvargasch/IEStoPBRT.git\n",
        "%cd IEStoPBRT"
      ]
    },
    {
      "cell_type": "markdown",
      "source": [
        "# Install dependencies"
      ],
      "metadata": {
        "id": "install-deps"
      }
    },
    {
      "cell_type": "code",
      "source": [
        "!pip -q install numpy imageio opencv-python"
      ],
      "metadata": {
        "id": "pip-install"
      },
      "execution_count": null,
      "outputs": []
    },
    {
      "cell_type": "markdown",
      "source": [
        "# Patch EXR saving in Colab (fallback to OpenCV if imageio fails)"
      ],
      "metadata": {
        "id": "patch-exr"
      }
    },
    {
      "cell_type": "code",
      "source": [
        "import numpy as np\n",
        "import cv2\n",
        "import imageio.v3 as iio\n",
        "\n",
        "# Save original imwrite\n",
        "_iio_orig_imwrite = iio.imwrite\n",
        "\n",
        "def _imwrite_exr_patch(uri, img, **kwargs):\n",
        "    if str(uri).lower().endswith(\".exr\"):\n",
        "        ok = cv2.imwrite(str(uri), img.astype(np.float32))\n",
        "        if not ok:\n",
        "            raise RuntimeError(f\"OpenCV couldn't write EXR: {uri}\")\n",
        "    else:\n",
        "        _iio_orig_imwrite(uri, img, **kwargs)\n",
        "\n",
        "# Apply patch\n",
        "iio.imwrite = _imwrite_exr_patch\n",
        "print(\"✅ Patched EXR saving (using OpenCV fallback)\")"
      ],
      "metadata": {
        "id": "patch-code"
      },
      "execution_count": null,
      "outputs": []
    },
    {
      "cell_type": "markdown",
      "source": [
        "# Import the converter"
      ],
      "metadata": {
        "id": "import-converter"
      }
    },
    {
      "cell_type": "code",
      "source": [
        "import sys\n",
        "sys.path.append(\"/content/IEStoPBRT\")\n",
        "\n",
        "import ies2exr"
      ],
      "metadata": {
        "id": "import-code"
      },
      "execution_count": null,
      "outputs": []
    },
    {
      "cell_type": "markdown",
      "source": [
        "# Example: convert an IES file into an EXR"
      ],
      "metadata": {
        "id": "example-header"
      }
    },
    {
      "cell_type": "code",
      "source": [
        "filename = \"IESfiles/IESsiemens.ies\"   # Replace with your own IES file\n",
        "output   = \"IESsiemens.exr\"\n",
        "\n",
        "meta = ies2exr.ies_to_exr(filename, output, width=1024, height=512)\n",
        "print(\"Metadata:\", meta)"
      ],
      "metadata": {
        "id": "convert-example"
      },
      "execution_count": null,
      "outputs": []
    },
    {
      "cell_type": "markdown",
      "source": [
        "# Visualize the generated photometric image"
      ],
      "metadata": {
        "id": "visualize"
      }
    },
    {
      "cell_type": "code",
      "source": [
        "import imageio.v3 as iio\n",
        "import matplotlib.pyplot as plt\n",
        "\n",
        "img = iio.imread(output)\n",
        "plt.figure(figsize=(12,4))\n",
        "plt.imshow(img[:,:,0], cmap='gray')\n",
        "plt.title('Goniometric Image for PBRT')\n",
        "plt.colorbar(label='Candela values')\n",
        "plt.show()"
      ],
      "metadata": {
        "id": "plot-code"
      },
      "execution_count": null,
      "outputs": []
    },
    {
      "cell_type": "markdown",
      "source": [
        "# The EXR file is now ready to be used in PBRT as a goniometric light source."
      ],
      "metadata": {
        "id": "pbrt-ready"
      }
    }
  ]
}
