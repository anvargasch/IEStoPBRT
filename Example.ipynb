{
  "nbformat": 4,
  "nbformat_minor": 0,
  "metadata": {
    "colab": {
      "provenance": [],
      "authorship_tag": "ABX9TyMbUSAfipDuG/xRL9TyU4Mq",
      "include_colab_link": true
    },
    "kernelspec": {
      "name": "python3",
      "display_name": "Python 3"
    },
    "language_info": {
      "name": "python"
    }
  },
  "cells": [
    {
      "cell_type": "markdown",
      "metadata": {
        "id": "view-in-github",
        "colab_type": "text"
      },
      "source": [
        "<a href=\"https://colab.research.google.com/github/anvargasch/IEStoPRBT/blob/main/Example.ipynb\" target=\"_parent\"><img src=\"https://colab.research.google.com/assets/colab-badge.svg\" alt=\"Open In Colab\"/></a>"
      ]
    },
    {
      "cell_type": "markdown",
      "source": [
        "#Clone the repository that contains the functions and the photometric sample files."
      ],
      "metadata": {
        "id": "nZw8ttJygkIH"
      }
    },
    {
      "cell_type": "code",
      "execution_count": null,
      "metadata": {
        "id": "MCsXa2-FJif8"
      },
      "outputs": [],
      "source": [
        "!git clone https://github.com/anvargasch/IEStoPRBT.git"
      ]
    },
    {
      "cell_type": "code",
      "source": [
        "from IEStoPRBT import readIES"
      ],
      "metadata": {
        "id": "_U1PJXwxMFDc"
      },
      "execution_count": null,
      "outputs": []
    },
    {
      "cell_type": "markdown",
      "source": [
        "# Example of reading an IES file and downloading the header and intensity matrix"
      ],
      "metadata": {
        "id": "7bMLSuuIMLBC"
      }
    },
    {
      "cell_type": "code",
      "source": [
        "filename = '/content/IEStoPRBT/IESfiles/IESsiemens.ies'  # Replace with the path to your IES file\n",
        "Lumen,fact,Num_vert_angle,Num_hori_angle,unid = readIES.IES_header(filename) # Function to return the phometrics parameters\n",
        "print(\"Lumen:\",Lumen,\", Factor:\", fact,\", #Vert:\",Num_vert_angle ,\", #Horiz:\",Num_hori_angle,\", Units:\", unid, \"(1:feet, 2:meters)\")"
      ],
      "metadata": {
        "id": "s-7lr9WVdcrj"
      },
      "execution_count": null,
      "outputs": []
    },
    {
      "cell_type": "code",
      "source": [
        "filename = '/content/IEStoPRBT/IESfiles/IESsiemens.ies'# Replace with the path to your IES file\n",
        "mat=readIES.IES_Intensity_matrix (filename) # Function to return the intensity matrix\n",
        "print(mat)"
      ],
      "metadata": {
        "id": "RO_wW4fR2iaB"
      },
      "execution_count": null,
      "outputs": []
    },
    {
      "cell_type": "code",
      "source": [
        "filename = '/content/IEStoPRBT/IESfiles/IESsiemens.ies' # Replace with the path to your IES file\n",
        "img=readIES.IES2PBRT (filename)  #Function to return an image for use in PBRT"
      ],
      "metadata": {
        "id": "AGCYi04Nddwj"
      },
      "execution_count": null,
      "outputs": []
    },
    {
      "cell_type": "code",
      "source": [
        "import matplotlib.pyplot as plt   # Graphing functions\n",
        "plt.figure(1)\n",
        "plt.imshow(img ,cmap=plt.cm.gray), plt.title(\"Imagen IES\")\n",
        "plt.imshow"
      ],
      "metadata": {
        "id": "r2CHH5XydhNK"
      },
      "execution_count": null,
      "outputs": []
    },
    {
      "cell_type": "code",
      "source": [
        "readIES.save_EXR(img,'/content/IMG_EXR10.exr') #Function to save the PBRT image in EXR format"
      ],
      "metadata": {
        "id": "9gZg7TzhduMq"
      },
      "execution_count": null,
      "outputs": []
    }
  ]
}