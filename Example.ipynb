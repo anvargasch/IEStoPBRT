{
  "nbformat": 4,
  "nbformat_minor": 0,
  "metadata": {
    "colab": {
      "provenance": [],
      "authorship_tag": "ABX9TyP5kxe0LJEGHnETyG9LZqvi",
      "include_colab_link": true
    },
    "kernelspec": {
      "name": "python3",
      "display_name": "Python 3"
    },
    "language_info": {
      "name": "python"
    }
  },
  "cells": [
    {
      "cell_type": "markdown",
      "metadata": {
        "id": "view-in-github",
        "colab_type": "text"
      },
      "source": [
        "<a href=\"https://colab.research.google.com/github/anvargasch/IEStoPRBT/blob/main/Example.ipynb\" target=\"_parent\"><img src=\"https://colab.research.google.com/assets/colab-badge.svg\" alt=\"Open In Colab\"/></a>"
      ]
    },
    {
      "cell_type": "markdown",
      "source": [
        "#Clone the repository containing the functions and photometric sample files."
      ],
      "metadata": {
        "id": "nZw8ttJygkIH"
      }
    },
    {
      "cell_type": "code",
      "execution_count": 1,
      "metadata": {
        "colab": {
          "base_uri": "https://localhost:8080/"
        },
        "id": "MCsXa2-FJif8",
        "outputId": "2075e5f5-fb2e-4f63-b32f-04c4624f7315"
      },
      "outputs": [
        {
          "output_type": "stream",
          "name": "stdout",
          "text": [
            "Cloning into 'IEStoPRBT'...\n",
            "remote: Enumerating objects: 38, done.\u001b[K\n",
            "remote: Counting objects: 100% (38/38), done.\u001b[K\n",
            "remote: Compressing objects: 100% (36/36), done.\u001b[K\n",
            "remote: Total 38 (delta 6), reused 0 (delta 0), pack-reused 0\u001b[K\n",
            "Unpacking objects: 100% (38/38), 139.73 KiB | 1.06 MiB/s, done.\n"
          ]
        }
      ],
      "source": [
        "!git clone https://github.com/anvargasch/IEStoPRBT.git"
      ]
    },
    {
      "cell_type": "code",
      "source": [
        "from IEStoPRBT import readIES"
      ],
      "metadata": {
        "id": "_U1PJXwxMFDc"
      },
      "execution_count": 2,
      "outputs": []
    },
    {
      "cell_type": "markdown",
      "source": [
        "# Example of reading an IES file and downloading the header and intensity matrix"
      ],
      "metadata": {
        "id": "7bMLSuuIMLBC"
      }
    },
    {
      "cell_type": "code",
      "source": [
        "filename = '/content/IEStoPRBT/IESfiles/IESsiemens.ies'  # Replace with the path to your IES file\n",
        "Lumen,fact,Num_vert_angle,Num_hori_angle,unid = readIES.IES_header(filename)\n",
        "print(\"Lumen:\",Lumen,\", Factor:\", fact,\", #Vert:\",Num_vert_angle ,\", #Horiz:\",Num_hori_angle,\", Unidades:\", unid, \"(1:pies, 2:Metros)\")"
      ],
      "metadata": {
        "id": "s-7lr9WVdcrj"
      },
      "execution_count": null,
      "outputs": []
    },
    {
      "cell_type": "code",
      "source": [
        "filename = '/content/IEStoPRBT/IESfiles/IESsiemens.ies'\n",
        "img=readIES.IES2PBRT (filename)"
      ],
      "metadata": {
        "id": "AGCYi04Nddwj"
      },
      "execution_count": null,
      "outputs": []
    },
    {
      "cell_type": "code",
      "source": [
        "import matplotlib.pyplot as plt   # Graphing functions\n",
        "plt.figure(1)\n",
        "plt.imshow(img ,cmap=plt.cm.gray), plt.title(\"Imagen IES\")\n",
        "plt.imshow"
      ],
      "metadata": {
        "id": "r2CHH5XydhNK"
      },
      "execution_count": null,
      "outputs": []
    },
    {
      "cell_type": "code",
      "source": [
        "readIES.save_EXR(img,'/content/IMG_EXR10.exr')"
      ],
      "metadata": {
        "id": "9gZg7TzhduMq"
      },
      "execution_count": null,
      "outputs": []
    }
  ]
}