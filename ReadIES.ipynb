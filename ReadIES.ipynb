{
  "nbformat": 4,
  "nbformat_minor": 0,
  "metadata": {
    "colab": {
      "provenance": [],
      "authorship_tag": "ABX9TyOp25ABrdoDYjK38ftbFy9M",
      "include_colab_link": true
    },
    "kernelspec": {
      "name": "python3",
      "display_name": "Python 3"
    },
    "language_info": {
      "name": "python"
    }
  },
  "cells": [
    {
      "cell_type": "markdown",
      "metadata": {
        "id": "view-in-github",
        "colab_type": "text"
      },
      "source": [
        "<a href=\"https://colab.research.google.com/github/anvargasch/IEStoPRBT/blob/main/ReadIES.ipynb\" target=\"_parent\"><img src=\"https://colab.research.google.com/assets/colab-badge.svg\" alt=\"Open In Colab\"/></a>"
      ]
    },
    {
      "cell_type": "code",
      "execution_count": null,
      "metadata": {
        "id": "IgbJmf-1HIia"
      },
      "outputs": [],
      "source": [
        "import re\n",
        "import numpy as np\n",
        "import os                         # función para abrir archivos EXR\n",
        "os.environ[\"OPENCV_IO_ENABLE_OPENEXR\"]=\"1\"\n",
        "import imageio                    # función para guarda archivos EXR\n",
        "import cv2                        # libreria de vision por computadora (abrir imagenes, etc.)\n",
        "import matplotlib.pyplot as plt   # funciones para representación gráfica\n",
        "import numpy as np                # funciones para matrices\n",
        "from scipy import interpolate     # funciones para interpolación\n",
        "from scipy.interpolate import RegularGridInterpolator\n",
        "import pandas as pd               # funciones para cargar excel"
      ]
    }
  ]
}